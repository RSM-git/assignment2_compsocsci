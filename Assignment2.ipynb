{
 "cells": [
  {
   "cell_type": "markdown",
   "metadata": {},
   "source": [
    "# Assignment 2"
   ]
  },
  {
   "cell_type": "markdown",
   "metadata": {},
   "source": [
    "All members of the group contributed equally in completing the assignment.\n",
    "\n",
    "[Github](https://github.com/RSM-git/assignment2_compsocsci)"
   ]
  },
  {
   "cell_type": "markdown",
   "metadata": {},
   "source": [
    "# Formalia:\n",
    "\n",
    "Please read the [assignment overview page](https://laura.alessandretti.com/comsocsci2023/assignments.html) carefully before proceeding. This page contains information about formatting (including formats etc), group sizes, and many other aspects of handing in the assignment. \n",
    "\n",
    "_If you fail to follow these simple instructions, it will negatively impact your grade!_\n",
    "\n",
    "**Due date and time**: The assignment is due on Mar 28th at 23:59. Hand in your Jupyter notebook file (with extension `.ipynb`) via DTU Learn _(Assignment, Assignment 2)_. \n",
    "\n",
    "Remember to include in the first cell of your notebook:\n",
    "* the link to your group's Git repository (if you don't have a shared Git repository, it's fine. Remember to do it next time)\n",
    "* group members' contributions"
   ]
  },
  {
   "attachments": {},
   "cell_type": "markdown",
   "metadata": {},
   "source": [
    "# Imports"
   ]
  },
  {
   "cell_type": "code",
   "execution_count": 1,
   "metadata": {},
   "outputs": [],
   "source": [
    "import pandas as pd\n",
    "import networkx as nx\n",
    "from networkx.readwrite import json_graph\n",
    "import numpy as np\n",
    "import polars as pl\n",
    "import ast\n",
    "import os\n",
    "import pickle\n",
    "import requests\n",
    "from time import sleep\n",
    "import copy\n",
    "import json\n",
    "\n",
    "import community\n",
    "from netwulf import visualize"
   ]
  },
  {
   "cell_type": "markdown",
   "metadata": {},
   "source": [
    "# Part 1: Mixing Patterns and Assortativity\n",
    "\n",
    "Let's dig in and try to understand more about the network of Computational Social Scientists using more advanced features. If your network has more than one component, just work on the giant connected component (GCC) in the exercises below. For the exercises below, you shall use the network you built in [Week 4](https://github.com/lalessan/comsocsci2023/blob/main/lectures/Week4.ipynb).\n",
    "\n",
    "\n",
    "> **Exercise 1: Mixing Patterns and Assortativity.** \n",
    ">\n",
    "> * For each node, compute the fraction of edges that connect to a node that works in the same top field. Find the average value across all nodes.\n",
    "> * Create a new graph, with the same nodes and edges, but where the association between nodes and field is shuffled. Compute the measure above for this randomized graph.\n",
    "> * Repeat the point above 100 times (at least). Plot the distribution of the values obtained and compare it with the value you have found for the real graph. Is the chance to connect to a member of the same field significantly higher than it would be by chance?\n",
    "> * Compute the assortativity coefficient with respect to author's field. How do you interpret the value you obtain? (__Hint__: See [this paper](https://nbviewer.org/github/suneman/socialgraphs2019/blob/master/lectures/Week5.ipynb), eq (2)). **Important**: here I do not want you to use the NetworkX implementation, but rather to implement your own version of the measure.    \n",
    "> * Is the graph assortative with respect to the degree? (e.g. do high-degree scientists tend to link to other high-degree scientists, and low-degree scientists to other low-degree scientists?). Provide an interpretation of your answer.\n",
    "> * _Optional:_ Estimate the gender of each author from their name, using the [World Gender Name Dictionary](https://dataverse.harvard.edu/dataset.xhtml?persistentId=doi:10.7910/DVN/MSEGSJ). Repeat the analysis above to study the assortativity of the network by gender rather than by field. What do you observe?\n"
   ]
  },
  {
   "attachments": {},
   "cell_type": "markdown",
   "metadata": {},
   "source": [
    "## Creating the network"
   ]
  },
  {
   "cell_type": "code",
   "execution_count": 3,
   "metadata": {},
   "outputs": [],
   "source": [
    "# load of author and paper csvs\n",
    "author_df = pd.read_csv(\"all_authors.csv\", index_col=\"id\")\n",
    "\n",
    "# we use polars as pandas is way too slow to use for filtering this\n",
    "# large amount of data\n",
    "paper_df = pl.scan_csv(\"all_papers.csv\")"
   ]
  },
  {
   "attachments": {},
   "cell_type": "markdown",
   "metadata": {},
   "source": [
    "We start by finding the css papers"
   ]
  },
  {
   "cell_type": "code",
   "execution_count": null,
   "metadata": {},
   "outputs": [],
   "source": [
    "social_science_fields = {\"Political Science\", \"Sociology\", \"Economics\"}\n",
    "quantitative_fields = {\"Mathematics\", \"Physics\", \"Computer Science\"}"
   ]
  },
  {
   "cell_type": "code",
   "execution_count": null,
   "metadata": {},
   "outputs": [],
   "source": [
    "# start with filtering the criterias that are supported by polars as these are much faster than the apply function\n",
    "paper_df = paper_df.filter((~pl.col(\"fields\").str.contains(\"Biology\")) & (pl.col(\"year\") > 2008) & (~pl.col(\"doi\").str.contains(\"None\"))).collect()"
   ]
  },
  {
   "cell_type": "code",
   "execution_count": null,
   "metadata": {},
   "outputs": [],
   "source": [
    "# custom function for apply\n",
    "def has_sosci_field(fields: str):\n",
    "    fields = ast.literal_eval(fields)\n",
    "    # check if paper has social science field\n",
    "    if len(set(fields).intersection(social_science_fields)) > 0:\n",
    "        return True\n",
    "\n",
    "\n",
    "paper_df = paper_df.filter(pl.col(\"fields\").apply(has_sosci_field))"
   ]
  },
  {
   "cell_type": "code",
   "execution_count": null,
   "metadata": {},
   "outputs": [],
   "source": [
    "# custom function for apply\n",
    "def is_quantitative(row: dict):\n",
    "    fields = set(ast.literal_eval(row[\"fields\"]))\n",
    "    # check if paper has quantitative field\n",
    "    if len(fields.intersection(quantitative_fields)) > 0:\n",
    "        return True\n",
    "\n",
    "    authors = ast.literal_eval(row[\"authors\"])\n",
    "    authors = [a for a in authors if a is not None]\n",
    "    # make sure that there are at least one author that is not None\n",
    "    if len(authors) == 0:\n",
    "        return False\n",
    "\n",
    "    # check if paper has an author in quantitative field\n",
    "    for author in authors:\n",
    "        author = int(author)\n",
    "        if author in author_df.index:\n",
    "            if author_df.loc[int(author), \"field\"] in quantitative_fields:\n",
    "                return True\n",
    "\n",
    "    return False\n",
    "    \n",
    "paper_df = paper_df.filter(pl.struct([\"authors\", \"fields\"]).apply(is_quantitative))"
   ]
  },
  {
   "cell_type": "code",
   "execution_count": null,
   "metadata": {},
   "outputs": [
    {
     "name": "stdout",
     "output_type": "stream",
     "text": [
      "Number of CSS papers: 8297\n"
     ]
    }
   ],
   "source": [
    "print(f\"Number of CSS papers: {len(paper_df)}\")"
   ]
  },
  {
   "cell_type": "code",
   "execution_count": null,
   "metadata": {},
   "outputs": [],
   "source": [
    "# save the dataframe\n",
    "paper_df.write_csv(\"css_papers.csv\")"
   ]
  },
  {
   "cell_type": "code",
   "execution_count": null,
   "metadata": {},
   "outputs": [],
   "source": [
    "# with the filtering being done, we swap back to pandas\n",
    "css_paper_df = pd.read_csv(\"css_papers.csv\", index_col=\"id\")\n",
    "\n",
    "# remove the redundant index column added by polars\n",
    "css_paper_df = css_paper_df.drop(columns=\"Unnamed: 0\")"
   ]
  },
  {
   "cell_type": "code",
   "execution_count": null,
   "metadata": {},
   "outputs": [],
   "source": [
    "# some papers have None as an author which we remove\n",
    "for i, row in css_paper_df.iterrows():\n",
    "    authors = ast.literal_eval(row[\"authors\"])\n",
    "    authors = [a for a in authors if a is not None]\n",
    "    row[\"authors\"] = authors\n",
    "    css_paper_df.loc[row.name] = row"
   ]
  },
  {
   "cell_type": "code",
   "execution_count": null,
   "metadata": {},
   "outputs": [],
   "source": [
    "# save the final version of css paper df\n",
    "css_paper_df.to_csv(\"css_papers.csv\")"
   ]
  },
  {
   "cell_type": "code",
   "execution_count": 2,
   "metadata": {},
   "outputs": [],
   "source": [
    "css_paper_df = pd.read_csv(\"css_papers.csv\", index_col=\"id\")"
   ]
  },
  {
   "cell_type": "code",
   "execution_count": 4,
   "metadata": {},
   "outputs": [],
   "source": [
    "# since we don't have all the authors of the paper df in the author df, we\n",
    "# need to check if any of the css authors are missing from the author df\n",
    "\n",
    "# get all unique authors\n",
    "css_authors = set()\n",
    "for i, row in css_paper_df.iterrows():\n",
    "    authors = ast.literal_eval(row[\"authors\"])\n",
    "    authors = list(map(int, authors))\n",
    "    css_authors = css_authors.union(set(authors))"
   ]
  },
  {
   "cell_type": "code",
   "execution_count": 5,
   "metadata": {},
   "outputs": [],
   "source": [
    "# find the missing ones\n",
    "missing_authors = []\n",
    "for author in css_authors:\n",
    "    if author not in author_df.index:\n",
    "        missing_authors.append(author)"
   ]
  },
  {
   "cell_type": "code",
   "execution_count": 6,
   "metadata": {},
   "outputs": [],
   "source": [
    "# set of authors that we have information on\n",
    "known_authors = css_authors - set(missing_authors)"
   ]
  },
  {
   "cell_type": "code",
   "execution_count": null,
   "metadata": {},
   "outputs": [
    {
     "name": "stdout",
     "output_type": "stream",
     "text": [
      "We have information on 3539\n",
      "23026 authors are missing\n"
     ]
    }
   ],
   "source": [
    "print(f\"We have information on {len(known_authors)}\")\n",
    "print(f\"{len(missing_authors)} authors are missing\")"
   ]
  },
  {
   "attachments": {},
   "cell_type": "markdown",
   "metadata": {},
   "source": [
    "Since we are missing so many authors, we chose to request the api yet again"
   ]
  },
  {
   "cell_type": "code",
   "execution_count": 22,
   "metadata": {},
   "outputs": [],
   "source": [
    "# request missing authors\n",
    "def make_author_requests(ids: list[str], start_index: int = 0, end_index: int = None, batch_size=30, save_threshold=500, suffix: str = None):\n",
    "    if save_threshold < batch_size:\n",
    "        print(\"save_threshold must be higher than batch_size\")\n",
    "        exit()\n",
    "    batch_url = \"https://api.semanticscholar.org/graph/v1/author/batch\"\n",
    "    responses = []\n",
    "    requests_made = 0\n",
    "    counter = start_index\n",
    "    errors = []\n",
    "    save_increment = int(np.ceil(save_threshold/batch_size) * batch_size)\n",
    "    save_target = save_increment\n",
    "    save_start_idx = 0\n",
    "    if suffix is None:\n",
    "        suffix = \"\"\n",
    "    if end_index is None:\n",
    "        end_index = len(ids)\n",
    "    else:\n",
    "        end_index = min(len(ids), end_index)\n",
    "    while counter < end_index:\n",
    "        current_ids = ids[counter: counter + batch_size]\n",
    "        data = {\"ids\": current_ids}\n",
    "        params = {\"fields\": \"name,aliases,papers.s2FieldsOfStudy\"}\n",
    "        try:\n",
    "            response = requests.post(batch_url, json=data, params=params).json()\n",
    "            \n",
    "            if isinstance(response, dict):\n",
    "                errors.append(response)\n",
    "                if response[\"message\"] == \"Too Many Requests\":\n",
    "                    sleep(300)\n",
    "                else:\n",
    "                    counter += batch_size\n",
    "            else:\n",
    "                responses.append(response)\n",
    "                counter += batch_size\n",
    "                requests_made += batch_size\n",
    "                if requests_made == save_target:\n",
    "                    with open(f\"responses_{save_start_idx+start_index}_{save_target+start_index}\" + suffix + \".pkl\", \"wb\") as f:\n",
    "                        pickle.dump(responses, f)\n",
    "                    responses = []\n",
    "                    save_start_idx = save_target\n",
    "                    save_target += save_increment\n",
    "        except Exception as e:\n",
    "            print(e)\n",
    "            counter += batch_size\n",
    "            requests_made += batch_size\n",
    "            if requests_made == save_target:\n",
    "                with open(f\"responses_{save_start_idx+start_index}_{save_target+start_index}\" + suffix + \".pkl\", \"wb\") as f:\n",
    "                    pickle.dump(responses, f)\n",
    "                responses = []\n",
    "                save_start_idx = save_target\n",
    "                save_target += save_increment\n",
    "\n",
    "    with open(f\"responses_{save_start_idx+start_index}_{end_index}.pkl\", \"wb\") as f:\n",
    "        pickle.dump(responses, f)\n",
    "    return errors"
   ]
  },
  {
   "cell_type": "code",
   "execution_count": null,
   "metadata": {},
   "outputs": [],
   "source": [
    "# Kris\n",
    "# make_author_requests(missing_authors, batch_size=30, start_index=0, end_index=7675)\n",
    "\n",
    "# Rasmus\n",
    "# make_author_requests(missing_authors, batch_size=30, start_index = 7675, end_index = 7675*2)\n",
    "\n",
    "# Victor\n",
    "make_author_requests(missing_authors, batch_size=30, start_index = 7675*2)"
   ]
  },
  {
   "cell_type": "code",
   "execution_count": 7,
   "metadata": {},
   "outputs": [],
   "source": [
    "# process the responses from the api\n",
    "\n",
    "# load all the pickle files\n",
    "all_responses = []\n",
    "all_files = os.listdir()\n",
    "for file in all_files:\n",
    "    if \"responses\" in file:\n",
    "        with open(file, \"rb\") as f:\n",
    "            all_responses.append(pickle.load(f))"
   ]
  },
  {
   "cell_type": "code",
   "execution_count": 8,
   "metadata": {},
   "outputs": [],
   "source": [
    "def get_primary_field(papers: list) -> str:\n",
    "    # find the primary field of an author based of the fields of their papers\n",
    "    fields = {}\n",
    "    for paper in papers:\n",
    "        fields_of_study = paper[\"s2FieldsOfStudy\"]\n",
    "        for field in fields_of_study:\n",
    "            category = field[\"category\"]\n",
    "            if category not in fields:\n",
    "                fields[category] = 1\n",
    "            else:\n",
    "                fields[category] += 1\n",
    "    return max(fields, key=fields.get) if len(fields) > 0 else None"
   ]
  },
  {
   "cell_type": "code",
   "execution_count": 9,
   "metadata": {},
   "outputs": [],
   "source": [
    "missing_author_info = {}\n",
    "for response in all_responses:\n",
    "    for batch in response:\n",
    "        for author in batch:\n",
    "            if author is not None:\n",
    "                author_id = int(author[\"authorId\"])\n",
    "                name = author[\"name\"]\n",
    "                aliases = author[\"aliases\"]\n",
    "                papers = author[\"papers\"]\n",
    "                field = get_primary_field(papers)\n",
    "                missing_author_info[author_id] = {\"name\": name, \"aliases\": aliases, \"field\": field}"
   ]
  },
  {
   "cell_type": "code",
   "execution_count": 16,
   "metadata": {},
   "outputs": [],
   "source": [
    "gained_authors = set(missing_author_info.keys())"
   ]
  },
  {
   "cell_type": "code",
   "execution_count": 18,
   "metadata": {},
   "outputs": [],
   "source": [
    "still_missing_authors = set(missing_authors) - gained_authors"
   ]
  },
  {
   "cell_type": "code",
   "execution_count": 20,
   "metadata": {},
   "outputs": [
    {
     "name": "stdout",
     "output_type": "stream",
     "text": [
      "We are still missing: 10469 authors\n"
     ]
    }
   ],
   "source": [
    "print(f\"We are still missing: {len(still_missing_authors)} authors\")"
   ]
  },
  {
   "attachments": {},
   "cell_type": "markdown",
   "metadata": {},
   "source": [
    "Request yet again but request fewer authors at a time as the api can time out if the batch size is too large which caused the missing authors"
   ]
  },
  {
   "cell_type": "code",
   "execution_count": 24,
   "metadata": {},
   "outputs": [],
   "source": [
    "make_author_requests(list(still_missing_authors), batch_size=5, suffix=\"new\")"
   ]
  },
  {
   "cell_type": "code",
   "execution_count": null,
   "metadata": {},
   "outputs": [],
   "source": [
    "# process the responses from the api\n",
    "\n",
    "# load all the pickle files\n",
    "all_responses = []\n",
    "all_files = os.listdir()\n",
    "for file in all_files:\n",
    "    if file.ednswith(\"new.pkl\"):\n",
    "        with open(file, \"rb\") as f:\n",
    "            all_responses.append(pickle.load(f))"
   ]
  },
  {
   "cell_type": "code",
   "execution_count": null,
   "metadata": {},
   "outputs": [],
   "source": [
    "for response in all_responses:\n",
    "    for batch in response:\n",
    "        for author in batch:\n",
    "            if author is not None:\n",
    "                author_id = int(author[\"authorId\"])\n",
    "                name = author[\"name\"]\n",
    "                aliases = author[\"aliases\"]\n",
    "                papers = author[\"papers\"]\n",
    "                field = get_primary_field(papers)\n",
    "                missing_author_info[author_id] = {\"name\": name, \"aliases\": aliases, \"field\": field}"
   ]
  },
  {
   "cell_type": "code",
   "execution_count": null,
   "metadata": {},
   "outputs": [],
   "source": [
    "gained_authors = set(missing_author_info.keys())"
   ]
  },
  {
   "cell_type": "code",
   "execution_count": null,
   "metadata": {},
   "outputs": [],
   "source": [
    "still_missing_authors = set(missing_authors) - gained_authors"
   ]
  },
  {
   "cell_type": "code",
   "execution_count": null,
   "metadata": {},
   "outputs": [
    {
     "name": "stdout",
     "output_type": "stream",
     "text": [
      "We are still missing: 10469 authors\n"
     ]
    }
   ],
   "source": [
    "print(f\"We are still missing: {len(still_missing_authors)} authors\")"
   ]
  },
  {
   "attachments": {},
   "cell_type": "markdown",
   "metadata": {},
   "source": [
    "The authors that are still missing will not be added to the graph  \n",
    "We now continue to get the attributes for each author"
   ]
  },
  {
   "cell_type": "code",
   "execution_count": null,
   "metadata": {},
   "outputs": [],
   "source": [
    "css_authors = known_authors + gained_authors\n",
    "author_attributes = {author: {} for author in css_authors}\n",
    "for author in css_authors:\n",
    "    author_attributes[author][\"first_paper_published\"] = float('inf')\n",
    "    author_attributes[author][\"citations\"] = []\n",
    "    author_attributes[author][\"num_papers\"] = 0"
   ]
  },
  {
   "cell_type": "code",
   "execution_count": null,
   "metadata": {},
   "outputs": [],
   "source": [
    "# gather attributes from the css papers\n",
    "for i, row in css_paper_df.iterrows():\n",
    "    authors = ast.literal_eval(row[\"authors\"])\n",
    "    for author in authors:\n",
    "        author = int(author)\n",
    "        if author in css_authors:\n",
    "            author_attributes[author][\"citations\"].append(row[\"citations\"])\n",
    "            author_attributes[author][\"papers\"] += 1\n",
    "            year = row[\"year\"]\n",
    "            if year < author_attributes[author][\"first_paper_published\"]:\n",
    "                author_attributes[author][\"first_paper_published\"] = year\n",
    "\n",
    "# set median number of citation\n",
    "for author in css_authors:\n",
    "    author_attributes[author][\"median_citations\"] = np.median(author_attributes[author][\"citations\"])\n",
    "    del author_attributes[author][\"citations\"]"
   ]
  },
  {
   "cell_type": "code",
   "execution_count": null,
   "metadata": {},
   "outputs": [],
   "source": [
    "# set name and field\n",
    "for author in css_authors:\n",
    "    author = int(author)\n",
    "    if author in author_df.index:\n",
    "        author_info = author_df.loc[author]\n",
    "        aliases = author_info[\"aliases\"]\n",
    "        if aliases is np.nan:\n",
    "            aliases = None\n",
    "        else:\n",
    "            aliases = ast.literal_eval(author_info[\"aliases\"])\n",
    "    else:\n",
    "        author_info = gained_authors[author]\n",
    "        aliases = author_info[\"aliases\"]\n",
    "    \n",
    "    field = author_info[\"field\"]\n",
    "    name = author_info[\"name\"]\n",
    "    if aliases is not None:\n",
    "        for alias in aliases:\n",
    "            if len(alias) > len(name):\n",
    "                name = alias\n",
    "    \n",
    "    author_attributes[str(author)][\"name\"] = name\n",
    "    author_attributes[str(author)][\"field\"] = field"
   ]
  },
  {
   "cell_type": "code",
   "execution_count": null,
   "metadata": {},
   "outputs": [],
   "source": [
    "# save attributes\n",
    "with open(\"author_attributes.pkl\", \"wb\") as f:\n",
    "    pickle.dump(author_attributes, f)"
   ]
  },
  {
   "attachments": {},
   "cell_type": "markdown",
   "metadata": {},
   "source": [
    "We move on to create the edgelist"
   ]
  },
  {
   "cell_type": "code",
   "execution_count": null,
   "metadata": {},
   "outputs": [],
   "source": [
    "def get_author_tuples(authors: list):\n",
    "    authors = copy.copy(authors)\n",
    "    authors.sort()\n",
    "\n",
    "    tuples = []\n",
    "    for i in range(len(authors) - 1):\n",
    "        author1 = authors[i]\n",
    "        for k in range(i+1, len(authors)):\n",
    "            author2 = authors[k]\n",
    "            tuples.append((author1, author2))\n",
    "    return tuples"
   ]
  },
  {
   "cell_type": "code",
   "execution_count": null,
   "metadata": {},
   "outputs": [],
   "source": [
    "css_authors = list(css_authors)\n",
    "author_tuples = get_author_tuples(css_authors)\n",
    "all_author_pairs = {t: 0 for t in author_tuples}"
   ]
  },
  {
   "cell_type": "code",
   "execution_count": null,
   "metadata": {},
   "outputs": [],
   "source": [
    "for i, row in css_paper_df.iterrows():\n",
    "    authors = ast.literal_eval(row[\"authors\"])\n",
    "    if len(authors) > 1:\n",
    "        tuples = get_author_tuples(authors)\n",
    "        for t in tuples:\n",
    "            all_author_pairs[t] += 1\n"
   ]
  },
  {
   "cell_type": "code",
   "execution_count": null,
   "metadata": {},
   "outputs": [],
   "source": [
    "all_author_pairs = {k: v for k, v in all_author_pairs.items() if v != 0}"
   ]
  },
  {
   "cell_type": "code",
   "execution_count": null,
   "metadata": {},
   "outputs": [],
   "source": [
    "edgelist = [(*k, v) for k, v in all_author_pairs.items()]\n",
    "with open(\"css_authors_edgelist.pkl\", \"wb\") as f:\n",
    "    pickle.dump(edgelist, f)"
   ]
  },
  {
   "attachments": {},
   "cell_type": "markdown",
   "metadata": {},
   "source": [
    "We are now ready to create the graph"
   ]
  },
  {
   "cell_type": "code",
   "execution_count": null,
   "metadata": {},
   "outputs": [],
   "source": [
    "G = nx.Graph()\n",
    "G.add_weighted_edges_from(edgelist)"
   ]
  },
  {
   "cell_type": "code",
   "execution_count": null,
   "metadata": {},
   "outputs": [],
   "source": [
    "for author, info in author_attributes.items():\n",
    "    nx.set_node_attributes(G, {author: info})"
   ]
  },
  {
   "cell_type": "code",
   "execution_count": null,
   "metadata": {},
   "outputs": [],
   "source": [
    "json_object = json.dumps(json_graph.node_link_data(G))\n",
    "with open(\"css_graph.json\", \"w\") as f:\n",
    "    f.write(json_object)"
   ]
  },
  {
   "attachments": {},
   "cell_type": "markdown",
   "metadata": {},
   "source": [
    "## Examining the network"
   ]
  },
  {
   "cell_type": "code",
   "execution_count": null,
   "metadata": {},
   "outputs": [],
   "source": [
    "G = nx.node_link_graph(json.loads(\"css_graph.json\"))\n",
    "\n",
    "# Extract the giant component\n",
    "# https://networkx.org/documentation/stable/auto_examples/graphviz_layout/plot_giant_component.html\n",
    "Gcc = sorted(nx.connected_components(G), key=len, reverse=True)\n",
    "G0 = G.subgraph(Gcc[0])"
   ]
  },
  {
   "cell_type": "code",
   "execution_count": null,
   "metadata": {},
   "outputs": [],
   "source": [
    "def get_same_field_fraction(graph: nx.Graph, node: str) -> float:\n",
    "    field = graph.nodes[node][\"field\"]\n",
    "    print(field)\n",
    "    adj = graph.adj[node]\n",
    "    print(adj)\n",
    "    neighbors = 0\n",
    "    same_field = 0\n",
    "    for n in adj.keys():\n",
    "        print(n)\n",
    "        neighbors += 1\n",
    "        print(graph.nodes[n][\"field\"])\n",
    "        if graph.nodes[n][\"field\"] == field:\n",
    "            same_field += 1\n",
    "    return same_field / neighbors"
   ]
  },
  {
   "cell_type": "code",
   "execution_count": null,
   "metadata": {},
   "outputs": [],
   "source": [
    "# compute the average fraction of edges that go between authors working in the same field\n",
    "fractions = []\n",
    "for node in G0.nodes().keys():\n",
    "    fractions.append(get_same_field_fraction(G0, node))\n",
    "avg_fraction = np.mean(fractions)"
   ]
  },
  {
   "cell_type": "code",
   "execution_count": null,
   "metadata": {},
   "outputs": [],
   "source": [
    "print(avg_fraction)"
   ]
  },
  {
   "attachments": {},
   "cell_type": "markdown",
   "metadata": {},
   "source": [
    "**Question 1**  \n",
    "*For each node, compute the fraction of edges that connect to a node that works in the same top field. Find the average value across all nodes*  \n",
    "**Answer**  \n",
    "The fraction is x"
   ]
  },
  {
   "cell_type": "code",
   "execution_count": null,
   "metadata": {},
   "outputs": [],
   "source": [
    "# shuffle the graph\n",
    "G_shuffled = copy.copy(G0)\n",
    "\n",
    "# get all the fields\n",
    "fields = []\n",
    "for node in G_shuffled.nodes.values():\n",
    "    fields.append(node[\"field\"])\n",
    "\n",
    "fields = np.random.shuffle(fields)\n",
    "\n",
    "# set the fields randomly\n",
    "for i, n in enumerate(G_shuffled.nodes.keys()):\n",
    "    G_shuffled[n][field] = fields[i]"
   ]
  },
  {
   "cell_type": "code",
   "execution_count": null,
   "metadata": {},
   "outputs": [],
   "source": [
    "# compute the average fraction of edges that go between authors working in the same field\n",
    "fractions = []\n",
    "for node in G_shuffled.nodes().keys():\n",
    "    fractions.append(get_same_field_fraction(G_shuffled, node))\n",
    "avg_fraction_shuffled = np.mean(fractions)"
   ]
  },
  {
   "cell_type": "code",
   "execution_count": null,
   "metadata": {},
   "outputs": [],
   "source": [
    "print(avg_fraction_shuffled)"
   ]
  },
  {
   "cell_type": "code",
   "execution_count": null,
   "metadata": {},
   "outputs": [],
   "source": []
  },
  {
   "cell_type": "markdown",
   "metadata": {},
   "source": [
    "# Part 2: Communities\n",
    "\n",
    "> __Exercise 2: Zachary's karate club__: In this exercise, we will work on Zarachy's karate club graph (refer to the Introduction of Chapter 9). The dataset is available in NetworkX, by calling the function [karate_club_graph](https://networkx.org/documentation/stable//auto_examples/graph/plot_karate_club.html) \n",
    ">\n",
    "> 1. Visualize the graph using [netwulf](https://netwulf.readthedocs.io/en/latest/). Set the color of each node based on the club split (the information is stored as a node attribute). My version of the visualization is below.\n",
    ">\n",
    "> 2. Write a function to compute the __modularity__ of a graph partitioning (use **equation 9.12** in the book). The function should take a networkX Graph and a partitioning as inputs and return the modularity.\n",
    "> 3. Explain in your own words the concept of _modularity_. \n",
    "> 4. Compute the modularity of the Karate club split partitioning using the function you just wrote. Note: the Karate club split partitioning is avilable as a [node attribute](https://networkx.org/documentation/networkx-1.10/reference/generated/networkx.classes.function.get_node_attributes.html), called _\"club\"_.\n",
    "> 5. We will now perform a small randomization experiment to assess if the modularity you just computed is statitically different from $0$. To do so, we will implement the _double edge swap_ algorithm. The _double edge swap_ algorithm is quite old... it was implemented in 1891 (!) by Danish mathematician Julius Petersen(https://en.wikipedia.org/wiki/Julius_Petersen). Given a network G, this algorithm creates a new network, such that each node has exactly the same degree as in the original network, but different connections. Here is how the algorithm works.\n",
    ">       * __a.__ Create an identical copy of your original network.\n",
    ">       * __b.__ Consider two edges in your new network (u,v) and (x,y), such that u!=v and v!=x.\n",
    ">       * __c.__ If none of edges (u,y) and (x,v) exists already, add them to the network and remove edges (u,v) and (x,y).\n",
    ">       * Repeat steps __b.__ and __c.__ to achieve at least N swaps (I suggest N to be larger than the number of edges).\n",
    "> 6. Double check that your algorithm works well, by showing that the degree of nodes in the original network and the new 'randomized' version of the network are the same.\n",
    "> 7. Create $1000$ randomized version of the Karate Club network using the _double edge swap_ algorithm you wrote in step 5. For each of them, compute the modularity of the \"club\" split and store it in a list.\n",
    "> 8. Compute the average and standard deviation of the modularity for the random network.\n",
    "> 9. Plot the distribution of the \"random\" modularity. Plot the actual modularity of the club split as a vertical line (use [axvline](https://matplotlib.org/stable/api/_as_gen/matplotlib.pyplot.axvline.html)). \n",
    "> 10. Comment on the figure. Is the club split a good partitioning? Why do you think I asked you to perform a randomization experiment? What is the reason why we preserved the nodes degree?\n",
    "> 11.  Use [the Python Louvain-algorithm implementation](https://anaconda.org/auto/python-louvain) to find communities in this graph. Report the value of modularity found by the algorithm. Is it higher or lower than what you found above for the club split? What does this comparison reveal?\n",
    "> 12.  Compare the communities found by the Louvain algorithm with the club split partitioning by creating a matrix **_D_** with dimension (2 times _A_), where _A_ is the number of communities found by Louvain. We set entry _D_(_i_,_j_) to be the number of nodes that community _i_ has in common with group split _j_. The matrix **_D_** is what we call a [**confusion matrix**](https://en.wikipedia.org/wiki/Confusion_matrix). Use the confusion matrix to explain how well the communities you've detected correspond to the club split partitioning."
   ]
  },
  {
   "cell_type": "markdown",
   "metadata": {},
   "source": [
    "Modularity measures the connectivity of a network given a partitioning of the network. Modularity will be larger when the nodes of the partitionings are interconnected and have few outgoing edges to other groups of the network. That is if a lot of the degree within the subgraph of the partition is maintained relative to the original graph, the modularity increases."
   ]
  },
  {
   "cell_type": "code",
   "execution_count": null,
   "metadata": {},
   "outputs": [],
   "source": [
    "karate_club = nx.karate_club_graph()\n",
    "\n",
    "members = nx.get_node_attributes(karate_club, \"club\")"
   ]
  },
  {
   "cell_type": "code",
   "execution_count": null,
   "metadata": {},
   "outputs": [],
   "source": [
    "group = {i: (0 if club == \"Mr. Hi\" else 1) for i, club in members.items()}\n",
    "nx.set_node_attributes(karate_club, group, \"group\")"
   ]
  },
  {
   "cell_type": "code",
   "execution_count": null,
   "metadata": {},
   "outputs": [],
   "source": [
    "network, _ = visualize(karate_club)"
   ]
  },
  {
   "cell_type": "code",
   "execution_count": null,
   "metadata": {},
   "outputs": [],
   "source": [
    "clubs = list(set(members.values()))\n",
    "\n",
    "club_partitioning = [[i for i in members.keys() if members[i] == club] for club in clubs]\n"
   ]
  },
  {
   "cell_type": "code",
   "execution_count": null,
   "metadata": {},
   "outputs": [
    {
     "data": {
      "text/plain": [
       "0.3582347140039447"
      ]
     },
     "execution_count": 6,
     "metadata": {},
     "output_type": "execute_result"
    }
   ],
   "source": [
    "def modularity(graph: nx.Graph, partitioning: list[int]):\n",
    "    L = graph.number_of_edges()\n",
    "    M = 0\n",
    "    for partition in partitioning:\n",
    "        community = graph.subgraph(partition)\n",
    "        Lc = community.number_of_edges()\n",
    "        kc = sum([node[1] for node in graph.degree(partition)]) # Get the total degree of the community members\n",
    "        \n",
    "        M += ((Lc / L) - (kc / (2*L)) ** 2)\n",
    "        \n",
    "    return M\n",
    "        \n",
    "modularity(karate_club, club_partitioning)"
   ]
  },
  {
   "cell_type": "code",
   "execution_count": null,
   "metadata": {},
   "outputs": [],
   "source": [
    "import random\n",
    "import copy\n",
    "def double_edge_swap(original_graph: nx.Graph, nswap: int, max_tries: int = 100):\n",
    "    graph = copy.deepcopy(original_graph)\n",
    "\n",
    "    for i in range(nswap):\n",
    "        for _ in range(max_tries):\n",
    "            (u, v), (x, y) = random.sample(graph.edges, 2)\n",
    "            if (u != v) and (v != x) and not graph.has_edge(u, y) and not graph.has_edge(x, v):\n",
    "                graph.remove_edge(u, v)\n",
    "                graph.remove_edge(x, y)\n",
    "                graph.add_edge(u, y)\n",
    "                graph.add_edge(x, v)\n",
    "                break\n",
    "    assert all([original == randomized for original, randomized \\\n",
    "                in zip(original_graph.degree, graph.degree)]), \"Degrees of all nodes are not equal\"\n",
    "    return graph"
   ]
  },
  {
   "cell_type": "code",
   "execution_count": null,
   "metadata": {},
   "outputs": [
    {
     "name": "stderr",
     "output_type": "stream",
     "text": [
      "C:\\Users\\rasmu\\AppData\\Local\\Temp\\ipykernel_6812\\2308084870.py:8: DeprecationWarning: Sampling from a set deprecated\n",
      "since Python 3.9 and will be removed in a subsequent version.\n",
      "  (u, v), (x, y) = random.sample(graph.edges, 2)\n"
     ]
    }
   ],
   "source": [
    "modularities = []\n",
    "for i in range(1000):\n",
    "    randomized_graph = double_edge_swap(karate_club, 100, 1000)\n",
    "    modularities.append(modularity(randomized_graph, club_partitioning))"
   ]
  },
  {
   "cell_type": "code",
   "execution_count": null,
   "metadata": {},
   "outputs": [
    {
     "name": "stdout",
     "output_type": "stream",
     "text": [
      "-0.08456015779092707 0.044652497090128765\n"
     ]
    },
    {
     "data": {
      "image/png": "[encoded data removed]",
      "text/plain": [
       "<Figure size 640x480 with 1 Axes>"
      ]
     },
     "metadata": {},
     "output_type": "display_data"
    }
   ],
   "source": [
    "import matplotlib.pyplot as plt\n",
    "from scipy.stats import norm\n",
    "\n",
    "x = np.linspace(-0.25, 0.4, 1000)\n",
    "\n",
    "modularities = np.array(modularities)\n",
    "\n",
    "print(modularities.mean(), modularities.std())\n",
    "\n",
    "plt.hist(modularities, bins=10, rwidth=0.9, density=True, label=\"Randomized modularities\")\n",
    "plt.plot(x, norm.pdf(x, loc=modularities.mean(), scale=modularities.std()))\n",
    "plt.axvline(modularity(karate_club, club_partitioning), color=\"red\", label=\"True modularity\")\n",
    "plt.legend()\n",
    "plt.show()"
   ]
  },
  {
   "cell_type": "code",
   "execution_count": null,
   "metadata": {},
   "outputs": [
    {
     "data": {
      "text/plain": [
       "0.4111604207758054"
      ]
     },
     "execution_count": 10,
     "metadata": {},
     "output_type": "execute_result"
    }
   ],
   "source": [
    "louvain_partition = community.best_partition(karate_club)\n",
    "communities = list(set(louvain_partition.values()))\n",
    "louvain_partitioning = [[i for i, c in louvain_partition.items() if c == com] for com in communities]\n",
    "\n",
    "\n",
    "\n",
    "modularity(karate_club, louvain_partitioning)"
   ]
  },
  {
   "cell_type": "code",
   "execution_count": null,
   "metadata": {},
   "outputs": [
    {
     "data": {
      "image/png": "[encoded data removed]",
      "text/plain": [
       "<Figure size 960x480 with 1 Axes>"
      ]
     },
     "metadata": {},
     "output_type": "display_data"
    }
   ],
   "source": [
    "cm = np.zeros((2, len(communities)))\n",
    "\n",
    "for i, club in enumerate(club_partitioning):\n",
    "    for j, com in enumerate(louvain_partitioning):\n",
    "        cm[i, j] = len(list(set(club).intersection(set(com))))\n",
    "        \n",
    "plt.matshow(cm)\n",
    "\n",
    "for i in range(len(club_partitioning)):\n",
    "    for j in range(len(louvain_partitioning)):\n",
    "        plt.text(j, i, cm[i,j], fontsize=16, fontweight=\"semibold\", ha=\"center\", va=\"center\", color=\"sienna\")\n",
    "plt.show()"
   ]
  },
  {
   "cell_type": "markdown",
   "metadata": {},
   "source": [
    "The confusion matrix shows that it is possible to split the clubs into communities, that are still mostly self-contained within the respective clubs. There is a single member who is an exception that is from the Mr. Hi karate club, who is put into a community with the large majority from the Officer karate club."
   ]
  },
  {
   "cell_type": "markdown",
   "metadata": {},
   "source": [
    "> __Exercise 3__: Community detection on the network of Computational Social Scientists. \n",
    ">\n",
    "> * Consider the network you built in [Week 4](https://github.com/lalessan/comsocsci2023/blob/main/lectures/Week4.ipynb).\n",
    "> * Use [the Python Louvain-algorithm implementation](https://anaconda.org/auto/python-louvain) to find communities. How many communities do you find? What are their sizes? Report the value of modularity found by the algorithm. Is the modularity significantly different than 0? \n",
    "> * If you are curious, you can also try the *Infomap* algorithm. Go to [this page]. (https://mapequation.github.io/infomap/python/). It's harder to install, but a better community detection algorithm. You can read about it in [advanced topics 9B](http://networksciencebook.com/chapter/9#advanced-9b).\n",
    "> * Visualize the network, using netwulf (see Week 5). This time assign each node a different color based on their _community_. Describe the structure you observe.\n",
    "> * Make sure you save the assignment of authors to communities.\n"
   ]
  },
  {
   "cell_type": "markdown",
   "metadata": {},
   "source": [
    "# Part 3: TF-IDF.\n",
    "\n",
    "\n",
    "> __Exercise 4: TF-IDF and the Computational Social Science communities.__ The goal for this exercise is to find the words charachterizing each of the communities of Computational Social Scientists.\n",
    "> What you ned for this exercise: \n",
    ">    * The assignment of each author to their network community, and the degree of each author (Week 6, Exercise 4). This can be stored in a dataframe or in two dictionaries, as you prefer.  \n",
    ">    * the tokenized _abstract_ dataframe (Week 7, Exercise 2)\n",
    ">\n",
    "> 1. First, check out [the wikipedia page for TF-IDF](https://en.wikipedia.org/wiki/Tf%E2%80%93idf). Explain in your own words the point of TF-IDF. \n",
    ">   * What does TF stand for? \n",
    ">   * What does IDF stand for?\n",
    "> 2. Now, we want to find out which words are important for each *community*, so we're going to create several ***large documents, one for each community***. Each document includes all the tokens of abstracts written by members of a given community. \n",
    ">   * Consider a community _c_\n",
    ">   * Find all the abstracts of papers written by a member of community _c_.\n",
    ">   * Create a long array that stores all the abstract tokens \n",
    ">   * Repeat for all the communities. \n",
    "> __Note:__ Here, to ensure your code is efficient, you shall exploit ``pandas`` builtin functions, such as [``groupby.apply``](https://pandas.pydata.org/docs/reference/api/pandas.core.groupby.GroupBy.apply.html) or [``explode``](https://pandas.pydata.org/docs/reference/api/pandas.DataFrame.explode.html).\n",
    "> 3. Now, we're ready to calculate the TF for each word. Use the method of your choice to find the top 5 terms within the __top 5 communities__ (by number of authors). \n",
    ">   * Describe similarities and differences between the communities.\n",
    ">   * Why aren't the TFs not necessarily a good description of the communities?\n",
    ">   * Next, we calculate IDF for every word. \n",
    ">   * What base logarithm did you use? Is that important?\n",
    "> 4. We're ready to calculate TF-IDF. Do that for the __top 9 communities__ (by number of authors). Then for each community: \n",
    ">   * List the 10 top TF words \n",
    ">   * List the 10 top TF-IDF words\n",
    ">   * List the top 3 authors (by degree)\n",
    ">   * Are these 10 words more descriptive of the community? If yes, what is it about IDF that makes the words more informative?\n"
   ]
  },
  {
   "cell_type": "markdown",
   "metadata": {},
   "source": [
    "> __Exercise 5: The Wordcloud__. It's time to visualize our results!\n",
    "> * Install the [`WordCloud`](https://pypi.org/project/wordcloud/) module. \n",
    "> * Now, create word-cloud for each community. Feel free to make it as fancy or non-fancy as you like.\n",
    "> * Make sure that, together with the word cloud, you print the names of the top three authors in each community (see my plot above for inspiration). \n",
    "> * Comment on your results. What can you conclude on the different sub-communities in Computational Social Science? \n",
    "> * Look up online the top author in each community. In light of your search, do your results make sense?"
   ]
  },
  {
   "cell_type": "code",
   "execution_count": null,
   "metadata": {},
   "outputs": [],
   "source": []
  }
 ],
 "metadata": {
  "kernelspec": {
   "display_name": "Python 3 (ipykernel)",
   "language": "python",
   "name": "python3"
  },
  "language_info": {
   "codemirror_mode": {
    "name": "ipython",
    "version": 3
   },
   "file_extension": ".py",
   "mimetype": "text/x-python",
   "name": "python",
   "nbconvert_exporter": "python",
   "pygments_lexer": "ipython3",
   "version": "3.10.9"
  },
  "vscode": {
   "interpreter": {
    "hash": "5c7b89af1651d0b8571dde13640ecdccf7d5a6204171d6ab33e7c296e100e08a"
   }
  }
 },
 "nbformat": 4,
 "nbformat_minor": 2
}
